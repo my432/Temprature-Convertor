{
  "cells": [
    {
      "cell_type": "markdown",
      "metadata": {
        "id": "view-in-github",
        "colab_type": "text"
      },
      "source": [
        "<a href=\"https://colab.research.google.com/github/my432/Temprature-Convertor/blob/main/Temprature_con.ipynb\" target=\"_parent\"><img src=\"https://colab.research.google.com/assets/colab-badge.svg\" alt=\"Open In Colab\"/></a>"
      ]
    },
    {
      "cell_type": "code",
      "execution_count": 6,
      "metadata": {
        "colab": {
          "base_uri": "https://localhost:8080/"
        },
        "id": "oNGP6Wqvw9nT",
        "outputId": "2e609466-9cbd-4965-93f2-f14aea1a33d9"
      },
      "outputs": [
        {
          "output_type": "stream",
          "name": "stdout",
          "text": [
            "Temperature Converter\n",
            "1. Celsius to Fahrenheit\n",
            "2. Fahrenheit to Celsius\n",
            "Enter your choice (1 or 2): 1\n",
            "Enter temperature in Celsius: 320\n",
            "320.0°C is equal to 608.0°F\n"
          ]
        }
      ],
      "source": [
        "def celsius_to_fahrenheit(celsius):\n",
        "    return (celsius * 9/5) + 32\n",
        "\n",
        "def fahrenheit_to_celsius(fahrenheit):\n",
        "    return (fahrenheit - 32) * 5/9\n",
        "\n",
        "# Get user input\n",
        "print(\"Temperature Converter\")\n",
        "print(\"1. Celsius to Fahrenheit\")\n",
        "print(\"2. Fahrenheit to Celsius\")\n",
        "choice = int(input(\"Enter your choice (1 or 2): \"))\n",
        "\n",
        "if choice == 1:\n",
        "    celsius = float(input(\"Enter temperature in Celsius: \"))\n",
        "    fahrenheit = celsius_to_fahrenheit(celsius)\n",
        "    print(f\"{celsius}°C is equal to {fahrenheit}°F\")\n",
        "elif choice == 2:\n",
        "    fahrenheit = float(input(\"Enter temperature in Fahrenheit: \"))\n",
        "    celsius = fahrenheit_to_celsius(fahrenheit)\n",
        "    print(f\"{fahrenheit}°F is equal to {celsius}°C\")\n",
        "else:\n",
        "    print(\"Invalid choice! Please select 1 or 2.\")\n"
      ]
    }
  ],
  "metadata": {
    "colab": {
      "provenance": [],
      "authorship_tag": "ABX9TyP7Hcl9zCMu2t/V7cqVxIBj",
      "include_colab_link": true
    },
    "kernelspec": {
      "display_name": "Python 3",
      "name": "python3"
    },
    "language_info": {
      "name": "python"
    }
  },
  "nbformat": 4,
  "nbformat_minor": 0
}